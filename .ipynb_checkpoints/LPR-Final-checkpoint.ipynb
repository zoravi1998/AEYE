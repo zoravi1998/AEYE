{
 "cells": [
  {
   "cell_type": "markdown",
   "metadata": {},
   "source": [
    "### Import library"
   ]
  },
  {
   "cell_type": "code",
   "execution_count": 1,
   "metadata": {},
   "outputs": [],
   "source": [
    "from lpr import LPDetector, LPRecognizer\n",
    "import json"
   ]
  },
  {
   "cell_type": "markdown",
   "metadata": {},
   "source": [
    "### Detector"
   ]
  },
  {
   "cell_type": "code",
   "execution_count": 2,
   "metadata": {},
   "outputs": [],
   "source": [
    "detector = LPDetector('model.weights', 'model.cfg', 'classes.names', 'output', 'cropped')"
   ]
  },
  {
   "cell_type": "code",
   "execution_count": null,
   "metadata": {
    "scrolled": true
   },
   "outputs": [
    {
     "name": "stdout",
     "output_type": "stream",
     "text": [
      "out.shape :  (507, 6)\n",
      "out.shape :  (2028, 6)\n",
      "0.98408604  -  0.98324233  - th :  0.5\n",
      "[0.5632357  0.7171142  0.24195822 0.08900435 0.98408604 0.98324233]\n",
      "out.shape :  (8112, 6)\n",
      "Done\n",
      "out.shape :  (507, 6)\n",
      "out.shape :  (2028, 6)\n",
      "0.73381263  -  0.73248905  - th :  0.5\n",
      "[0.48574165 0.06086164 0.23159885 0.09577555 0.73381263 0.73248905]\n",
      "out.shape :  (8112, 6)\n",
      "Done\n",
      "out.shape :  (507, 6)\n",
      "out.shape :  (2028, 6)\n",
      "0.98558503  -  0.98461324  - th :  0.5\n",
      "[0.56258464 0.4490723  0.30078387 0.07896577 0.98558503 0.98461324]\n",
      "out.shape :  (8112, 6)\n",
      "Done\n",
      "out.shape :  (507, 6)\n",
      "out.shape :  (2028, 6)\n",
      "0.86487985  -  0.86262524  - th :  0.5\n",
      "[0.5710682  0.44098213 0.20300712 0.07330566 0.86487985 0.86262524]\n",
      "0.60270774  -  0.0  - th :  0.5\n",
      "[0.5807425  0.43902647 0.18592717 0.07613894 0.60270774 0.        ]\n",
      "out.shape :  (8112, 6)\n",
      "Done\n",
      "out.shape :  (507, 6)\n",
      "0.91901773  -  0.9185299  - th :  0.5\n",
      "[0.28796348 0.60122216 0.38170546 0.29600438 0.91901773 0.9185299 ]\n",
      "0.6383431  -  0.0  - th :  0.5\n",
      "[0.2888262 0.6075496 0.3725136 0.3310123 0.6383431 0.       ]\n",
      "out.shape :  (2028, 6)\n",
      "out.shape :  (8112, 6)\n",
      "Done\n",
      "out.shape :  (507, 6)\n",
      "out.shape :  (2028, 6)\n",
      "out.shape :  (8112, 6)\n",
      "Done\n",
      "out.shape :  (507, 6)\n",
      "0.92884624  -  0.92795  - th :  0.5\n",
      "[0.21643487 0.6818628  0.27048868 0.14458612 0.92884624 0.92795   ]\n",
      "out.shape :  (2028, 6)\n",
      "0.91398257  -  0.91368467  - th :  0.5\n",
      "[0.21857458 0.6831175  0.22763856 0.11215623 0.91398257 0.91368467]\n",
      "out.shape :  (8112, 6)\n",
      "Done\n",
      "out.shape :  (507, 6)\n",
      "out.shape :  (2028, 6)\n",
      "0.9899872  -  0.98923165  - th :  0.5\n",
      "[0.50877506 0.43204466 0.26463592 0.08049691 0.9899872  0.98923165]\n",
      "out.shape :  (8112, 6)\n",
      "Done\n",
      "out.shape :  (507, 6)\n",
      "0.9942966  -  0.993865  - th :  0.5\n",
      "[0.506899   0.5599552  0.24063876 0.1725886  0.9942966  0.993865  ]\n",
      "out.shape :  (2028, 6)\n",
      "out.shape :  (8112, 6)\n",
      "Done\n",
      "out.shape :  (507, 6)\n",
      "0.97710377  -  0.9767909  - th :  0.5\n",
      "[0.44898337 0.7045955  0.40560466 0.12342196 0.97710377 0.9767909 ]\n",
      "out.shape :  (2028, 6)\n",
      "out.shape :  (8112, 6)\n",
      "Done\n",
      "out.shape :  (507, 6)\n",
      "0.7464106  -  0.0  - th :  0.5\n",
      "[0.45993072 0.58749497 0.40197414 0.13682793 0.7464106  0.        ]\n",
      "0.9954847  -  0.99523854  - th :  0.5\n",
      "[0.4708719  0.58458906 0.33137748 0.14651272 0.9954847  0.99523854]\n",
      "out.shape :  (2028, 6)\n",
      "out.shape :  (8112, 6)\n",
      "Done\n",
      "out.shape :  (507, 6)\n",
      "out.shape :  (2028, 6)\n",
      "0.987009  -  0.9843915  - th :  0.5\n",
      "[0.7855774  0.5065905  0.16440333 0.1007001  0.987009   0.9843915 ]\n",
      "out.shape :  (8112, 6)\n",
      "Done\n",
      "out.shape :  (507, 6)\n",
      "out.shape :  (2028, 6)\n",
      "0.94823563  -  0.9467855  - th :  0.5\n",
      "[0.484272   0.66316265 0.19101635 0.06940968 0.94823563 0.9467855 ]\n",
      "out.shape :  (8112, 6)\n",
      "Done\n",
      "out.shape :  (507, 6)\n",
      "out.shape :  (2028, 6)\n",
      "out.shape :  (8112, 6)\n",
      "Done\n",
      "out.shape :  (507, 6)\n",
      "out.shape :  (2028, 6)\n",
      "out.shape :  (8112, 6)\n",
      "Done\n",
      "out.shape :  (507, 6)\n",
      "0.5348072  -  0.0  - th :  0.5\n",
      "[0.70777786 0.61082506 0.3542112  0.23027731 0.5348072  0.        ]\n",
      "0.9711061  -  0.96999234  - th :  0.5\n",
      "[0.7072471  0.6246617  0.40935406 0.22169903 0.9711061  0.96999234]\n",
      "out.shape :  (2028, 6)\n",
      "out.shape :  (8112, 6)\n",
      "Done\n",
      "out.shape :  (507, 6)\n",
      "0.9963726  -  0.99576956  - th :  0.5\n",
      "[0.5054782  0.671119   0.49987096 0.20294704 0.9963726  0.99576956]\n",
      "out.shape :  (2028, 6)\n",
      "out.shape :  (8112, 6)\n",
      "Done\n",
      "out.shape :  (507, 6)\n",
      "0.93452305  -  0.93335205  - th :  0.5\n",
      "[0.5952059  0.5251023  0.36353514 0.14237168 0.93452305 0.93335205]\n",
      "out.shape :  (2028, 6)\n",
      "out.shape :  (8112, 6)\n",
      "Done\n",
      "out.shape :  (507, 6)\n",
      "0.99698585  -  0.9967759  - th :  0.5\n",
      "[0.5112506  0.5486465  0.41791636 0.12009411 0.99698585 0.9967759 ]\n",
      "out.shape :  (2028, 6)\n",
      "out.shape :  (8112, 6)\n",
      "Done\n"
     ]
    }
   ],
   "source": [
    "detector.detect_license_plate('test')"
   ]
  },
  {
   "cell_type": "markdown",
   "metadata": {},
   "source": [
    "### Recognizer"
   ]
  },
  {
   "cell_type": "code",
   "execution_count": null,
   "metadata": {},
   "outputs": [],
   "source": [
    "recognizer = LPRecognizer('gcreds.json')"
   ]
  },
  {
   "cell_type": "code",
   "execution_count": null,
   "metadata": {},
   "outputs": [],
   "source": [
    "result = recognizer.read_license_plate('cropped')"
   ]
  },
  {
   "cell_type": "code",
   "execution_count": null,
   "metadata": {
    "scrolled": true
   },
   "outputs": [],
   "source": [
    "result"
   ]
  },
  {
   "cell_type": "code",
   "execution_count": null,
   "metadata": {},
   "outputs": [],
   "source": [
    "with open('result.json', 'w') as f:\n",
    "    json.dump(result, f)"
   ]
  },
  {
   "cell_type": "code",
   "execution_count": null,
   "metadata": {},
   "outputs": [],
   "source": []
  }
 ],
 "metadata": {
  "kernelspec": {
   "display_name": "Python 3",
   "language": "python",
   "name": "python3"
  },
  "language_info": {
   "codemirror_mode": {
    "name": "ipython",
    "version": 3
   },
   "file_extension": ".py",
   "mimetype": "text/x-python",
   "name": "python",
   "nbconvert_exporter": "python",
   "pygments_lexer": "ipython3",
   "version": "3.6.9"
  }
 },
 "nbformat": 4,
 "nbformat_minor": 2
}
